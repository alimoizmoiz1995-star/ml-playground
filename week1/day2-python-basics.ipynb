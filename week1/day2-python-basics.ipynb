{
 "cells": [
  {
   "cell_type": "code",
   "execution_count": 29,
   "id": "124ff27a",
   "metadata": {},
   "outputs": [
    {
     "name": "stdout",
     "output_type": "stream",
     "text": [
      "[1, 4, 9, 16, 25]\n",
      "{2: 4, 3: 9, 4: 16, 5: 25, 6: 36, 7: 49}\n"
     ]
    }
   ],
   "source": [
    "square = [x**2 for x in range(1,6)]\n",
    "\n",
    "print(square)\n",
    "\n",
    "square_dict = {x:x**2 for x in range(2,8)}\n",
    "\n",
    "print(square_dict)"
   ]
  },
  {
   "cell_type": "code",
   "execution_count": 34,
   "id": "e3845abf",
   "metadata": {},
   "outputs": [
    {
     "name": "stdout",
     "output_type": "stream",
     "text": [
      "barks like  Woof Woof\n",
      "None\n"
     ]
    }
   ],
   "source": [
    "class Dog:\n",
    "    def __init__(self,name = None):\n",
    "        self.__name = name\n",
    "        self.__b = \"Woof Woof\"\n",
    "        \n",
    "    def bark(self):\n",
    "        if self.__name is None:\n",
    "            print( \"barks like \", self.__b)\n",
    "        else:\n",
    "            print( self.__name,\"barks like \", self.__b)\n",
    "\n",
    "doggie = Dog()\n",
    "\n",
    "print(doggie.bark())"
   ]
  },
  {
   "cell_type": "code",
   "execution_count": 14,
   "id": "bb2147eb",
   "metadata": {},
   "outputs": [
    {
     "name": "stdout",
     "output_type": "stream",
     "text": [
      " Factorial  24\n"
     ]
    }
   ],
   "source": [
    "def factorial(n):\n",
    "    if n == 0:\n",
    "        return 1\n",
    "    return n * factorial(n-1)\n",
    "\n",
    "\n",
    "print(\" Factorial \",factorial(4))"
   ]
  },
  {
   "cell_type": "code",
   "execution_count": 8,
   "id": "392804be",
   "metadata": {},
   "outputs": [
    {
     "name": "stdout",
     "output_type": "stream",
     "text": [
      "0 is even\n",
      "1 is Odd\n",
      "2 is even\n",
      "3 is Odd\n",
      "4 is even\n",
      "5 is Odd\n",
      "6 is even\n",
      "7 is Odd\n",
      "8 is even\n",
      "9 is Odd\n"
     ]
    }
   ],
   "source": [
    "for i in range(0,10):\n",
    "    if i % 2 == 0:\n",
    "        print(i,\"is even\")\n",
    "    else:\n",
    "        print(i,\"is Odd\")\n"
   ]
  },
  {
   "cell_type": "code",
   "execution_count": 5,
   "id": "34192618",
   "metadata": {},
   "outputs": [
    {
     "name": "stdout",
     "output_type": "stream",
     "text": [
      "3 5\n",
      "15\n",
      "ALI\n",
      "Python\n"
     ]
    }
   ],
   "source": [
    "nums = [1,2,3,4,5]\n",
    "print(nums[2],nums[-1])\n",
    "\n",
    "print(sum(nums))\n",
    "\n",
    "student = {\"Name\": \"ALI\", \"Age\": 29 , \"skills\":[\"Python\",\"ML\"]}\n",
    "print(student[\"Name\"])\n",
    "print(student[\"skills\"][0])\n",
    "\n"
   ]
  },
  {
   "cell_type": "code",
   "execution_count": 3,
   "id": "197fa972",
   "metadata": {},
   "outputs": [
    {
     "name": "stdout",
     "output_type": "stream",
     "text": [
      "10 3.14 ALI True\n"
     ]
    }
   ],
   "source": [
    "x = 10\n",
    "pi = 3.14\n",
    "name = \"ALI\"\n",
    "is_ml_fun = True\n",
    "\n",
    "print(x,pi,name,is_ml_fun)"
   ]
  }
 ],
 "metadata": {
  "kernelspec": {
   "display_name": "Python 3",
   "language": "python",
   "name": "python3"
  },
  "language_info": {
   "codemirror_mode": {
    "name": "ipython",
    "version": 3
   },
   "file_extension": ".py",
   "mimetype": "text/x-python",
   "name": "python",
   "nbconvert_exporter": "python",
   "pygments_lexer": "ipython3",
   "version": "3.13.7"
  }
 },
 "nbformat": 4,
 "nbformat_minor": 5
}
