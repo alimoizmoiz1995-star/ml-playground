{
 "cells": [
  {
   "cell_type": "code",
   "execution_count": null,
   "id": "e3845abf",
   "metadata": {},
   "outputs": [
    {
     "ename": "TypeError",
     "evalue": "Dog.__init__() missing 1 required positional argument: 'name'",
     "output_type": "error",
     "traceback": [
      "\u001b[31m---------------------------------------------------------------------------\u001b[39m",
      "\u001b[31mTypeError\u001b[39m                                 Traceback (most recent call last)",
      "\u001b[36mCell\u001b[39m\u001b[36m \u001b[39m\u001b[32mIn[22]\u001b[39m\u001b[32m, line 12\u001b[39m\n\u001b[32m      9\u001b[39m         \u001b[38;5;28;01melse\u001b[39;00m:\n\u001b[32m     10\u001b[39m             \u001b[38;5;28mprint\u001b[39m( \u001b[38;5;28mself\u001b[39m.__name,\u001b[33m\"\u001b[39m\u001b[33mbarks like \u001b[39m\u001b[33m\"\u001b[39m, \u001b[38;5;28mself\u001b[39m.__b)\n\u001b[32m---> \u001b[39m\u001b[32m12\u001b[39m doggie = \u001b[43mDog\u001b[49m\u001b[43m(\u001b[49m\u001b[43m)\u001b[49m\n\u001b[32m     14\u001b[39m \u001b[38;5;28mprint\u001b[39m(doggie.bark())\n",
      "\u001b[31mTypeError\u001b[39m: Dog.__init__() missing 1 required positional argument: 'name'"
     ]
    }
   ],
   "source": [
    "class Dog:\n",
    "    def __init__(self,name:str | None = None):\n",
    "        self.__name = name\n",
    "        self.__b = \"Woof Woof\"\n",
    "        \n",
    "    def bark(self):\n",
    "        if self.__name is None:\n",
    "            print( \"barks like \", self.__b)\n",
    "        else:\n",
    "            print( self.__name,\"barks like \", self.__b)\n",
    "\n",
    "doggie = Dog()\n",
    "\n",
    "print(doggie.bark())"
   ]
  },
  {
   "cell_type": "code",
   "execution_count": 14,
   "id": "bb2147eb",
   "metadata": {},
   "outputs": [
    {
     "name": "stdout",
     "output_type": "stream",
     "text": [
      " Factorial  24\n"
     ]
    }
   ],
   "source": [
    "def factorial(n):\n",
    "    if n == 0:\n",
    "        return 1\n",
    "    return n * factorial(n-1)\n",
    "\n",
    "\n",
    "print(\" Factorial \",factorial(4))"
   ]
  },
  {
   "cell_type": "code",
   "execution_count": 8,
   "id": "392804be",
   "metadata": {},
   "outputs": [
    {
     "name": "stdout",
     "output_type": "stream",
     "text": [
      "0 is even\n",
      "1 is Odd\n",
      "2 is even\n",
      "3 is Odd\n",
      "4 is even\n",
      "5 is Odd\n",
      "6 is even\n",
      "7 is Odd\n",
      "8 is even\n",
      "9 is Odd\n"
     ]
    }
   ],
   "source": [
    "for i in range(0,10):\n",
    "    if i % 2 == 0:\n",
    "        print(i,\"is even\")\n",
    "    else:\n",
    "        print(i,\"is Odd\")\n"
   ]
  },
  {
   "cell_type": "code",
   "execution_count": 5,
   "id": "34192618",
   "metadata": {},
   "outputs": [
    {
     "name": "stdout",
     "output_type": "stream",
     "text": [
      "3 5\n",
      "15\n",
      "ALI\n",
      "Python\n"
     ]
    }
   ],
   "source": [
    "nums = [1,2,3,4,5]\n",
    "print(nums[2],nums[-1])\n",
    "\n",
    "print(sum(nums))\n",
    "\n",
    "student = {\"Name\": \"ALI\", \"Age\": 29 , \"skills\":[\"Python\",\"ML\"]}\n",
    "print(student[\"Name\"])\n",
    "print(student[\"skills\"][0])\n",
    "\n"
   ]
  },
  {
   "cell_type": "code",
   "execution_count": 3,
   "id": "197fa972",
   "metadata": {},
   "outputs": [
    {
     "name": "stdout",
     "output_type": "stream",
     "text": [
      "10 3.14 ALI True\n"
     ]
    }
   ],
   "source": [
    "x = 10\n",
    "pi = 3.14\n",
    "name = \"ALI\"\n",
    "is_ml_fun = True\n",
    "\n",
    "print(x,pi,name,is_ml_fun)"
   ]
  }
 ],
 "metadata": {
  "kernelspec": {
   "display_name": "Python 3",
   "language": "python",
   "name": "python3"
  },
  "language_info": {
   "codemirror_mode": {
    "name": "ipython",
    "version": 3
   },
   "file_extension": ".py",
   "mimetype": "text/x-python",
   "name": "python",
   "nbconvert_exporter": "python",
   "pygments_lexer": "ipython3",
   "version": "3.13.7"
  }
 },
 "nbformat": 4,
 "nbformat_minor": 5
}
